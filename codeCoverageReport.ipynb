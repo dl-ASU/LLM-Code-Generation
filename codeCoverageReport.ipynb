{
 "cells": [
  {
   "cell_type": "code",
   "execution_count": 9,
   "metadata": {
    "id": "XxrcQjuFiryt"
   },
   "outputs": [],
   "source": [
    "import subprocess\n",
    "import platform\n",
    "\n",
    "file_name = 'program.cpp'\n",
    "input_file_name = 'input.txt'\n",
    "\n",
    "# Compilation command\n",
    "compilation_command = f\"g++ -o {file_name.split('.')[0]} -fprofile-arcs -ftest-coverage {file_name}\"\n",
    "\n",
    "# Executable name\n",
    "executable_name = file_name.split('.')[0]\n",
    "\n",
    "# Executing command\n",
    "executing_command = f\"./{executable_name} < {input_file_name}\" if platform.system() != 'Windows' else f\"{executable_name} < {input_file_name}\"\n",
    "\n",
    "# Coverage command\n",
    "coverage_command = f\"gcov {executable_name}\""
   ]
  },
  {
   "cell_type": "code",
   "execution_count": 10,
   "metadata": {
    "colab": {
     "base_uri": "https://localhost:8080/"
    },
    "id": "P3YYxR4jk6z7",
    "outputId": "40dc48ca-6a6d-4efc-816e-0de9d41699c0"
   },
   "outputs": [
    {
     "name": "stdout",
     "output_type": "stream",
     "text": [
      "Compilation successful\n",
      "--------------------------------------------------\n",
      "3\n",
      "\n",
      "--------------------------------------------------\n",
      "File 'program.cpp'\n",
      "Lines executed:100.00% of 4\n",
      "Creating 'program.cpp.gcov'\n",
      "\n",
      "File 'E:/01- Embedded Systems AVR Tools-20220809T121814Z-001/01- Embedded Systems AVR Tools/02- Toolchains/01-mingw-w64_x64/mingw64/lib/gcc/x86_64-w64-mingw32/6.2.0/include/c++/iostream'\n",
      "Lines executed:100.00% of 1\n",
      "Creating 'iostream.gcov'\n",
      "\n",
      "\n",
      "\n"
     ]
    }
   ],
   "source": [
    "try:\n",
    "    subprocess.run(compilation_command, shell=True, check=True)\n",
    "    print(\"Compilation successful\\n\" + '-'*50)\n",
    "except subprocess.CalledProcessError as e:\n",
    "    print(f\"Compilation failed with error: {e}\")\n",
    "\n",
    "try:\n",
    "    result = subprocess.run(executing_command, shell=True, check=True, capture_output=True, text=True)\n",
    "    print(result.stdout + \"\\n\" + '-'*50)\n",
    "except subprocess.CalledProcessError as e:\n",
    "    print(f\"Execution failed with error: {e}\")\n",
    "    print(\"Error Output:\", e.stderr)\n",
    "\n",
    "try:\n",
    "    result = subprocess.run(coverage_command, shell=True, check=True, capture_output=True, text=True)\n",
    "    print(result.stdout + '\\n')\n",
    "except subprocess.CalledProcessError as e:\n",
    "    print(f\"Coverage failed with error: {e}\")\n",
    "    print(\"Error Output:\", e.stderr)"
   ]
  },
  {
   "cell_type": "code",
   "execution_count": 11,
   "metadata": {},
   "outputs": [
    {
     "name": "stdout",
     "output_type": "stream",
     "text": [
      "        -:    0:Source:program.cpp\n",
      "        -:    0:Graph:program.gcno\n",
      "        -:    0:Data:program.gcda\n",
      "        -:    0:Runs:1\n",
      "        -:    0:Programs:1\n",
      "        -:    1:#include <iostream>\n",
      "        -:    2:\n",
      "        -:    3:using namespace std;\n",
      "        -:    4:\n",
      "        1:    5:int main () {\n",
      "        -:    6:  int a, b;\n",
      "        1:    7:  cin >> a >> b;\n",
      "        -:    8:\n",
      "        1:    9:  cout << a + b << endl;\n",
      "        4:   10:}\n",
      "\n"
     ]
    }
   ],
   "source": [
    "# Specify the file path\n",
    "file_path = file_name + '.gcov'  # Replace with the actual path to your text file\n",
    "\n",
    "# Open the file in read mode ('r' for reading)\n",
    "with open(file_path, 'r') as file:  # Remove quotes around file_path\n",
    "    # Read the contents of the file\n",
    "    file_contents = file.read()\n",
    "\n",
    "# Display or process the file contents\n",
    "print(file_contents)\n"
   ]
  },
  {
   "cell_type": "code",
   "execution_count": 12,
   "metadata": {},
   "outputs": [],
   "source": [
    "import re\n",
    "\n",
    "# Use regular expression to find lines after \"#####\"\n",
    "pattern = re.compile(r'#####:\\s+(\\d+):(.*?)\\n')\n",
    "matches = pattern.findall(file_contents)\n",
    "# Print the result\n",
    "# Print the result\n",
    "for match in matches:\n",
    "    line_number = match[0]\n",
    "    content = match[1].strip()\n",
    "    print(f\"Line {line_number}: {content}\")"
   ]
  },
  {
   "cell_type": "code",
   "execution_count": null,
   "metadata": {},
   "outputs": [],
   "source": []
  }
 ],
 "metadata": {
  "colab": {
   "provenance": []
  },
  "kernelspec": {
   "display_name": "Python 3 (ipykernel)",
   "language": "python",
   "name": "python3"
  },
  "language_info": {
   "codemirror_mode": {
    "name": "ipython",
    "version": 3
   },
   "file_extension": ".py",
   "mimetype": "text/x-python",
   "name": "python",
   "nbconvert_exporter": "python",
   "pygments_lexer": "ipython3",
   "version": "3.10.9"
  }
 },
 "nbformat": 4,
 "nbformat_minor": 1
}
