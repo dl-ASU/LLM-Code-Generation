{
  "nbformat": 4,
  "nbformat_minor": 0,
  "metadata": {
    "colab": {
      "provenance": []
    },
    "kernelspec": {
      "name": "python3",
      "display_name": "Python 3"
    },
    "language_info": {
      "name": "python"
    }
  },
  "cells": [
    {
      "cell_type": "code",
      "execution_count": 1,
      "metadata": {
        "id": "XxrcQjuFiryt"
      },
      "outputs": [],
      "source": [
        "import subprocess\n",
        "\n",
        "\n",
        "file_name = 'main.c'\n",
        "\n",
        "\n",
        "\n",
        "Compilation_command = \"gcc -o o \"+file_name +\" -o \"+file_name.split('.')[0]+\" -fprofile-arcs -ftest-coverage\"\n",
        "executing_command = \"./\" +file_name.split('.')[0]\n",
        "coverage_command = \"gcov \"  + file_name.split('.')[0]"
      ]
    },
    {
      "cell_type": "code",
      "source": [
        "try:\n",
        "    subprocess.run(Compilation_command, shell=True, check=True)\n",
        "    print(\"Compilation successful\\n\" + '-'*50 )\n",
        "except subprocess.CalledProcessError as e:\n",
        "    print(f\"Compilation failed with error: {e}\")\n",
        "\n",
        "try:\n",
        "    result = subprocess.run(executing_command, shell=True, check=True, capture_output=True, text=True)\n",
        "    print(result.stdout + \"\\n\" + '-'*50 )\n",
        "except subprocess.CalledProcessError as e:\n",
        "    print(f\"execution failed with error: {e}\")\n",
        "\n",
        "try:\n",
        "    result = subprocess.run(coverage_command, shell=True, check=True, capture_output=True, text=True)\n",
        "    print(result.stdout + '\\n')\n",
        "except subprocess.CalledProcessError as e:\n",
        "    print(f\"coverage failed with error: {e}\")\n",
        "    print(\"Error Output:\", e.stderr)\n"
      ],
      "metadata": {
        "colab": {
          "base_uri": "https://localhost:8080/"
        },
        "id": "P3YYxR4jk6z7",
        "outputId": "40dc48ca-6a6d-4efc-816e-0de9d41699c0"
      },
      "execution_count": 2,
      "outputs": [
        {
          "output_type": "stream",
          "name": "stdout",
          "text": [
            "Compilation successful\n",
            "--------------------------------------------------\n",
            "hello\n",
            "--------------------------------------------------\n",
            "File 'main.c'\n",
            "Lines executed:66.67% of 9\n",
            "Creating 'main.c.gcov'\n",
            "\n",
            "Lines executed:66.67% of 9\n",
            "\n",
            "\n"
          ]
        }
      ]
    },
    {
      "cell_type": "code",
      "source": [
        "# Specify the file path\n",
        "file_path = file_name + '.gcov'  # Replace with the actual path to your text file\n",
        "\n",
        "# Open the file in read mode ('r' for reading)\n",
        "with open(file_path, 'r') as file:\n",
        "    # Read the contents of the file\n",
        "    file_contents = file.read()\n",
        "\n",
        "# Display or process the file contents\n",
        "print(file_contents)\n"
      ],
      "metadata": {
        "colab": {
          "base_uri": "https://localhost:8080/"
        },
        "id": "EokqVQ6cjF6O",
        "outputId": "8e798a05-0b48-4700-de2b-d144a6028542"
      },
      "execution_count": 3,
      "outputs": [
        {
          "output_type": "stream",
          "name": "stdout",
          "text": [
            "        -:    0:Source:main.c\n",
            "        -:    0:Graph:main.gcno\n",
            "        -:    0:Data:main.gcda\n",
            "        -:    0:Runs:1\n",
            "        -:    1:#include <stdio.h>\n",
            "        -:    2:\n",
            "        -:    3:\n",
            "        -:    4:\n",
            "        1:    5:void fun()\n",
            "        -:    6:{\n",
            "        -:    7:\n",
            "        -:    8:\n",
            "        1:    9: printf(\"hello\");\n",
            "        -:   10:\n",
            "        1:   11:}\n",
            "    #####:   12:void funnn()\n",
            "        -:   13:{\n",
            "        -:   14:\n",
            "        -:   15:\n",
            "    #####:   16: printf(\"hello\");\n",
            "        -:   17:\n",
            "    #####:   18:}\n",
            "        -:   19:\n",
            "        -:   20:\n",
            "        1:   21:int main()\n",
            "        -:   22:{\n",
            "        -:   23:   \n",
            "        -:   24:\n",
            "        1:   25:fun();\n",
            "        -:   26:\n",
            "        1:   27:    return 0;\n",
            "        -:   28:}\n",
            "\n"
          ]
        }
      ]
    }
  ]
}